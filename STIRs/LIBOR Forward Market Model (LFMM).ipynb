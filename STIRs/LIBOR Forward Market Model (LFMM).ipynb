{
 "cells": [
  {
   "cell_type": "markdown",
   "id": "aef9c6b6",
   "metadata": {},
   "source": [
    "# The LIBOR Forward Market Model (LFMM)"
   ]
  },
  {
   "cell_type": "markdown",
   "id": "0af3218b",
   "metadata": {},
   "source": [
    "LFMM models the simple forward rates in the market.\n",
    "\n",
    "The forward rate between times $t_j$ and $t_{j+1}$ is:<br>\n",
    "$F(t,T_j, T_{j+1}) = F_j(t)$\n",
    "\n",
    "The differential between the two dates:<br>\n",
    "$\\delta_j = T_{j+1} - T_j$"
   ]
  },
  {
   "cell_type": "markdown",
   "id": "5ecf5442",
   "metadata": {},
   "source": [
    "The LFMM says that each market forward rate has the following SDE:\n",
    "    $$ dF_j(t) = F_j(t)\\mu_j(t)dt + F_j(t) \\sigma_j (t) dW_t$$\n",
    "   \n",
    "where,\n",
    "$\\mu_j (t)$ is the time dependent drift associated with $F_j (t)$ <br>\n",
    "$\\sigma_j (t)$ is the time dependent vol associated with $F_j (t)$ <br>\n",
    "$dW_t$ is a Brownian motion"
   ]
  },
  {
   "cell_type": "markdown",
   "id": "9c701fbe",
   "metadata": {},
   "source": [
    "### Assumptions\n",
    "We will assume one Brownian motion for every forward rate in the market. \n",
    "We can later include multiple Brownians for Variance, Covariance, Correlation."
   ]
  },
  {
   "cell_type": "markdown",
   "id": "e30f7f94",
   "metadata": {},
   "source": [
    "### Time dependent drift \n",
    "The $\\mu (t)$ in the above equation can be written as:\n",
    "$$ \\mu (t) = \\sum_{k=\\tau(t)}^{j} \\frac{\\delta_k F_k(t) \\sigma_k(t) \\sigma_j(t)}{1 + \\delta_k F_k(t)}$$\n",
    "\n",
    "where, \n",
    "$\\tau(t) = \\min \\{ i:t < T_i \\}$"
   ]
  },
  {
   "cell_type": "markdown",
   "id": "fd2e097c",
   "metadata": {},
   "source": [
    "### Approximate solutions\n",
    "It can be shown that the approximation for the $j^{th}$ forward rate at the time $t_i$ is:\n",
    "$$\\hat{F}_j(t_i) = \\hat{F}_j(t_{i-1}) e^{\\big[\\hat{\\mu}_j(t_{i-1}) - \\frac{1}{2}\\sigma^2)\\delta_{i-1} + \\sigma_j \\sqrt{\\delta_{i-1}}Z_i \\big]}$$\n",
    "\n",
    "where, <br>\n",
    "$\\hat{F}_j(t_i)$ is the approximation for the $j^{th}$ forward rate at the time $t_i$ <br>\n",
    "$Z \\approx N(0,1)$<br>\n",
    "$ \\hat{\\mu}_j (t_{i-1}) = \\sum_{k=1}^{j} \\frac{\\delta_k \\hat{F}_j(t_{i-1}) \\sigma_k \\sigma_j}{1 + \\delta_k \\hat{F}_j(t_{i-1})}$\n",
    "\n",
    "\n",
    "\n"
   ]
  },
  {
   "cell_type": "markdown",
   "id": "e470c026",
   "metadata": {},
   "source": [
    "To apply monte-carlo simulations, we need initial values for $\\hat{F}_j(t_i) = F_j (t_0)$, <br>\n",
    "where, <br>\n",
    "$ F_j (t_0)$ are \n",
    "* implied from market zcb prices and \n",
    "* the following formula: $F_j(t_0) = \\frac{P_j(0) - P_{j+1}(0)}{\\delta_0 P_{j+1}(0)}$"
   ]
  },
  {
   "cell_type": "markdown",
   "id": "29ecb2bc",
   "metadata": {},
   "source": [
    "## Predictor-Corrector Method "
   ]
  },
  {
   "cell_type": "markdown",
   "id": "57cdb32d",
   "metadata": {},
   "source": [
    "\n",
    "The Predictor-Corrector Method is used to improve the overall accruacy of the forward rate approximations. We can use this method that revolves around estimating an initial and a terminal drift, then using an average of these to project future forward rates.\n",
    "\n",
    "Initialise\n",
    "$$\\hat{F}_j(t_0) = F_j (t_0)$$\n",
    "\n",
    "Estimate Forward Rate for the next period\n",
    "$$ \\tilde{F}_j(t_i) = \\bar{F}_j(t_{i-1}) e^{\\big[\\mu^1_j(t_{i-1}) - \\frac{1}{2}\\sigma^2)\\delta_{i-1} + \\sigma_j \\sqrt{\\delta_{i-1}}Z_i \\big]}$$\n",
    "where, <br>\n",
    "* $\\mu^1_j (t) = \\sum_{k=1}^{j} \\frac{\\delta_k \\bar{F}_j(t_{i-1}) \\sigma_k \\sigma_j}{1 + \\delta_k \\bar{F}_j(t_{i-1})}$\n",
    "* $\\mu^2_j (t_{i-1}) = \\sum_{k=1}^{j} \\frac{\\delta_k \\tilde{F}_j(t_{i-1}) \\sigma_k \\sigma_j}{1 + \\delta_k \\tilde{F}_j(t_{i-1})} $"
   ]
  },
  {
   "cell_type": "markdown",
   "id": "3e123971",
   "metadata": {},
   "source": [
    "Final step is to compute the final estimate for the forward rate in the next period using:\n",
    "\n",
    "$$ \\bar{F}_j(t_i) = \\bar{F}_j(t_{i-1}) e^{\\big[\\frac{1}{2}(\\mu^1_j(t_{i-1}) + \\mu^2_j(t_{i-1}) - \\sigma^2)\\delta_{i-1} + \\sigma_j \\sqrt{\\delta_{i-1}}Z_i \\big]}$$"
   ]
  },
  {
   "cell_type": "markdown",
   "id": "72e5ec42",
   "metadata": {},
   "source": [
    "## Simulating Bond Prices in Python\n",
    "1. simulating forward rates\n",
    "2. using these to imply capitalisation factors\n",
    "3. then inverting these to imply discount factors which should be equal to the bond price under no arbitrage."
   ]
  },
  {
   "cell_type": "code",
   "execution_count": 11,
   "id": "7568637e",
   "metadata": {},
   "outputs": [],
   "source": [
    "import numpy as np\n",
    "from scipy.stats import norm\n",
    "import matplotlib.pyplot as plt\n",
    "import random"
   ]
  },
  {
   "cell_type": "code",
   "execution_count": 14,
   "id": "c415cc5a",
   "metadata": {},
   "outputs": [],
   "source": [
    "# parameters\n",
    "r0 = 0.02\n",
    "alpha = 0.2\n",
    "b = 0.05\n",
    "sigma = 0.025"
   ]
  },
  {
   "cell_type": "code",
   "execution_count": 15,
   "id": "1222f2ca",
   "metadata": {},
   "outputs": [],
   "source": [
    "# bond maturities are 2 years apart\n",
    "t = np.linspace(0,50,21)\n",
    "sigmaj = 0.1"
   ]
  },
  {
   "cell_type": "markdown",
   "id": "997a2485",
   "metadata": {},
   "source": [
    "$\\sigma_j$ is the volatility for the LFMM model"
   ]
  },
  {
   "cell_type": "markdown",
   "id": "fbffdf32",
   "metadata": {},
   "source": [
    "### Generate Bond Prices Using Vasicek Dynamics\n",
    "For a real world application, we would use market prices instead of simulating prices like we are right now."
   ]
  },
  {
   "cell_type": "code",
   "execution_count": 16,
   "id": "ff39ea54",
   "metadata": {},
   "outputs": [],
   "source": [
    "# Analytical Bond price\n",
    "def A(t1, t2):\n",
    "    return (1-np.exp(-alpha*(t2-t1)))/alpha\n",
    "\n",
    "def C(t1, t2):\n",
    "    val_1 = (t2-t1-A(t1,t2))*(sigma**2/(2*alpha**2)-b)\n",
    "    val_2 = sigma**2*A(t1,t2)**2/(4*alpha)\n",
    "    return val_1 - val_2\n",
    "\n",
    "def bond_price(r,t,T):\n",
    "    return np.exp(-A(t,T)*r + C(t,T))\n",
    "\n",
    "vasi_bond = bond_price(r0,0,t)"
   ]
  },
  {
   "cell_type": "code",
   "execution_count": 17,
   "id": "0dc2c5bb",
   "metadata": {},
   "outputs": [],
   "source": [
    "np.random.seed(0)\n",
    "n_simulations = 100000\n",
    "\n",
    "#stores the number of time steps we are simulating over \n",
    "n_steps = len(t)\n",
    "\n",
    "#Initialize the forward rates by multipyling a matrix of ones by the forward rates at time t0 implied by the bond prices\n",
    "\n",
    "mc_forward = np.ones([n_simulations,n_steps-1])*(vasi_bond[:-1]-vasi_bond[1:])/(2*vasi_bond[1:])\n",
    "predcorr_forward = np.ones([n_simulations,n_steps-1])*(vasi_bond[:-1]-vasi_bond[1:])/(2*vasi_bond[1:])\n",
    "predcorr_capfac = np.ones([n_simulations,n_steps])\n",
    "mc_capfac = np.ones([n_simulations,n_steps])\n",
    "\n",
    "#store the time increments bewteen bond maturities\n",
    "delta = np.ones([n_simulations,n_steps-1])*(t[1:]-t[:-1])"
   ]
  },
  {
   "cell_type": "code",
   "execution_count": 18,
   "id": "7e6ed927",
   "metadata": {},
   "outputs": [],
   "source": [
    "for i in range(1,n_steps):\n",
    "    Z = norm.rvs(size = [n_simulations,1])\n",
    "    \n",
    "    # Explicit Monte Carlo simulation\n",
    "    muhat = np.cumsum(delta[:,i:]*mc_forward[:,i:]*sigmaj**2/(1+delta[:,i:]*mc_forward[:,i:]),axis = 1)\n",
    "    mc_forward[:,i:] = mc_forward[:,i:]*np.exp((muhat-sigmaj**2/2)*delta[:,i:]+sigmaj*np.sqrt(delta[:,i:])*Z)\n",
    "    \n",
    "    # Predictor-Corrector\n",
    "    mu_initial = np.cumsum(delta[:,i:]*predcorr_forward[:,i:]*sigmaj**2/(1+delta[:,i:]*predcorr_forward[:,i:]),axis = 1)\n",
    "    for_temp = predcorr_forward[:,i:]*np.exp((mu_initial-sigmaj**2/2)*delta[:,i:]+sigmaj*np.sqrt(delta[:,i:])*Z)\n",
    "    mu_term = np.cumsum(delta[:,i:]*for_temp*sigmaj**2/(1+delta[:,i:]*for_temp),axis = 1)\n",
    "    predcorr_forward[:,i:] = predcorr_forward[:,i:]*np.exp((mu_initial+mu_term-sigmaj**2)*delta[:,i:]/2+sigmaj*np.sqrt(delta[:,i:])*Z)"
   ]
  },
  {
   "cell_type": "markdown",
   "id": "fe4a1241",
   "metadata": {},
   "source": [
    "We have completed step number 1, ie, simulating forward rates. <br>\n",
    "Now, we need capitalisation factors:\n",
    "$$ C(t_0, t_n) = \\Pi_{k=1}^{n} (1 + \\delta_k F_k(t_k))$$\n",
    "\n",
    "where,\n",
    "$ C(t,T)$ is capitalisation factor for the period $t_0$ and $t_n$. <br>\n",
    "\n",
    "We then take the inverse of the capitalisation factors to get the bond prices (same as the discount factors) and take the mean."
   ]
  },
  {
   "cell_type": "code",
   "execution_count": 19,
   "id": "840f4f23",
   "metadata": {},
   "outputs": [],
   "source": [
    "# Implying capitalisation factors from the forward rates\n",
    "mc_capfac[:,1:] = np.cumprod(1+delta*mc_forward, axis = 1)\n",
    "predcorr_capfac[:,1:] = np.cumprod(1+delta*predcorr_forward, axis = 1)\n",
    "\n",
    "# Inverting the capitalisation factors to imply bond prices (discount factors)\n",
    "mc_price = mc_capfac**(-1)\n",
    "predcorr_price = predcorr_capfac**(-1)\n",
    "\n",
    "# Taking averages\n",
    "mc_final = np.mean(mc_price,axis = 0)\n",
    "predcorr_final = np.mean(predcorr_price,axis = 0)"
   ]
  },
  {
   "cell_type": "code",
   "execution_count": 20,
   "id": "929dbcb2",
   "metadata": {
    "scrolled": true
   },
   "outputs": [
    {
     "data": {
      "image/png": "[encoded data removed]",
      "text/plain": [
       "<Figure size 1080x360 with 1 Axes>"
      ]
     },
     "metadata": {
      "needs_background": "light"
     },
     "output_type": "display_data"
    }
   ],
   "source": [
    "plt.figure(figsize=(15,5))\n",
    "plt.xlabel(\"Maturity\")\n",
    "plt.ylabel(\"Bond Price\")\n",
    "plt.plot(t, vasi_bond, label=\"Vasicek Bond Prices\")\n",
    "plt.plot(t, mc_final, \"o\", label=\"Simple Monte Carlo Bond Prices\")\n",
    "plt.plot(t, predcorr_final, \"x\", label=\"Predictor-Corrector Bond Prices\")\n",
    "plt.legend()\n",
    "plt.show()"
   ]
  },
  {
   "cell_type": "markdown",
   "id": "6445ffb0",
   "metadata": {},
   "source": [
    "## References\n",
    "* quantpie.co.uk, \"LIBOR Market Model\", https://www.youtube.com/watch?v=vbtkyczmy60\n",
    "* Hunter, C,J (2001), \"Drift apporximations in a forward rate based LIBOR market model\", Getting the Drift\n",
    "* UCT Pigeons, \"An Assessment on the Appropriateness of the use of the LFMM in South Africa\", https://people.math.ethz.ch/~yuxi/Xi_FMTCJul18.pdf\n",
    "* WQU notes, Computational Finance"
   ]
  }
 ],
 "metadata": {
  "kernelspec": {
   "display_name": "Python 3 (ipykernel)",
   "language": "python",
   "name": "python3"
  },
  "language_info": {
   "codemirror_mode": {
    "name": "ipython",
    "version": 3
   },
   "file_extension": ".py",
   "mimetype": "text/x-python",
   "name": "python",
   "nbconvert_exporter": "python",
   "pygments_lexer": "ipython3",
   "version": "3.8.12"
  }
 },
 "nbformat": 4,
 "nbformat_minor": 5
}
