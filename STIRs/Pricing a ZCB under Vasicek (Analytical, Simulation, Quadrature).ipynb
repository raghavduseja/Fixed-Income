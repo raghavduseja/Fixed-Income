{
 "cells": [
  {
   "cell_type": "markdown",
   "id": "b89031ec",
   "metadata": {},
   "source": [
    "# ZCB under Vasicek (Analytical, Simulation, Quadrature)"
   ]
  },
  {
   "cell_type": "markdown",
   "id": "426383c6",
   "metadata": {},
   "source": [
    "The price of a zero-coupon-bond is just the discounted value of the par value (as there are no coupons).\n",
    "Spot rate is the yield-to-maturity on a zero-coupon bond. The basic formula is $B(t,T) =  \\frac{M}{{(1 + i)^n} }$.\n",
    "\n",
    "However, it is also equivalent to finding the average discount factor where discount factor = $ \\frac{1}{{(1 + i)^n} }$. Therefore, $B(t,T) = E[e^{-\\int_t^Tr_s ds}]$, which is the expectation taken under the risk neutral measure.\n",
    "* See [this](https://www.youtube.com/watch?v=xZ69KEg7ccU&list=PLNzUmdzNFUET9Itx-RpjDpZXuuusCXxHr&index=5&t=1s) link to know more about measure theory"
   ]
  },
  {
   "cell_type": "markdown",
   "id": "bf139f9b",
   "metadata": {},
   "source": [
    "## Vasicek model to price ZCBs"
   ]
  },
  {
   "cell_type": "markdown",
   "id": "0c95c13f",
   "metadata": {},
   "source": [
    "The Vasicek model is given as $dr_t = \\alpha(b-r_t)dt + \\sigma dW_t, r_0=r(0)$"
   ]
  },
  {
   "cell_type": "markdown",
   "id": "d12ebeab",
   "metadata": {},
   "source": [
    "Under Vasicek model, the above formula is given as:<br>\n",
    "$ B(t,T) = e^{-A(t,T)r_t + D(t,T)}$ \n",
    "\n",
    "where<br>\n",
    "$A(t,T) = \\frac{1-e^{-\\alpha(T-t)}}{\\alpha}$ <br>\n",
    "$D(t,T) = (b - \\frac{\\sigma^2}{2 \\alpha^2})[A(t,T) - (T-t)] - \\frac{\\sigma^2 A(t,T)^2}{4 \\alpha}$\n",
    "\n",
    "This is the closed form solution (analytical solution) for the bond prices under the Vasicek model."
   ]
  },
  {
   "cell_type": "code",
   "execution_count": 6,
   "id": "01971d91",
   "metadata": {},
   "outputs": [],
   "source": [
    "import numpy as np\n",
    "from scipy.stats import norm\n",
    "import matplotlib.pyplot as plt\n",
    "import random"
   ]
  },
  {
   "cell_type": "code",
   "execution_count": 31,
   "id": "2d8a36ba",
   "metadata": {},
   "outputs": [],
   "source": [
    "# Parameters\n",
    "r0 = 0.02\n",
    "alpha = 0.2\n",
    "b = 0.05\n",
    "sigma = 0.025"
   ]
  },
  {
   "cell_type": "code",
   "execution_count": 32,
   "id": "5b906c07",
   "metadata": {},
   "outputs": [],
   "source": [
    "#mean under the Vasicek model\n",
    "def vasi_mean(r, t1, t2):\n",
    "    return np.exp(-alpha*(t2-t1))*r+b*(1-np.exp(-alpha*(t2-t1)))\n",
    "\n",
    "#variance under the Vasicek model\n",
    "def vasi_var(t1,t2):\n",
    "    return (sigma**2)*(1-np.exp(-2*alpha*(t2-t1)))/(2*alpha)"
   ]
  },
  {
   "cell_type": "code",
   "execution_count": 33,
   "id": "0db659a7",
   "metadata": {},
   "outputs": [],
   "source": [
    "# Analytical Bond prices under the Vasicek model\n",
    "def A(t1, t2):\n",
    "    return (1-np.exp(-alpha*(t2-t1)))/alpha\n",
    "\n",
    "def D(t1, t2):\n",
    "    val_1 = (t2-t1-A(t1,t2))*(sigma**2/(2*alpha**2)-b)\n",
    "    val_2 = sigma**2*A(t1,t2)**2/(4*alpha)\n",
    "    return val_1 - val_2\n",
    "\n",
    "def bond_price(r,t,T):\n",
    "    return np.exp(-A(t,T)*r + D(t,T))"
   ]
  },
  {
   "cell_type": "markdown",
   "id": "b61fd0ff",
   "metadata": {},
   "source": [
    "## Joint simulation"
   ]
  },
  {
   "cell_type": "markdown",
   "id": "b9a41279",
   "metadata": {},
   "source": [
    "We will be jointly simulating two things\n",
    "- short term rate, $r_t$\n",
    "- the value $\\int_0^t r_s ds$, which will be denoted as $Y_t$\n",
    "\n",
    "Both will have a jointly gaussian distribution, as we are assuming that the short term rate $r_t$ is normally distributed\n",
    "\n",
    "$r_t \\sim N(r(0)e^{-\\alpha t} + b(1-e^{- \\alpha t}), \\frac{\\sigma^2}{2 \\alpha}(1 - e^{- 2\\alpha t}))$\n",
    "<br>\n",
    "$Y_{t_2} \\sim N(Y_{t_1} + (t_2 - t_1)b + (r_{t_1} - b)A(t_1, t_2), \\frac{\\sigma^2}{\\alpha^2}(t_2 - t_1 - A(t_1, t_2) - \\alpha \\frac{A(t_1, t_2)^2}{2}) )$\n"
   ]
  },
  {
   "cell_type": "markdown",
   "id": "4ae252dd",
   "metadata": {},
   "source": [
    "where, <br>\n",
    "Covariance $Y_{t_2}, r_{t_2}$ = $\\frac{\\sigma^2  A(t_1, t_2)^2}{2}$<br>"
   ]
  },
  {
   "cell_type": "markdown",
   "id": "122c5738",
   "metadata": {},
   "source": [
    "The price of the bond will be found using this formula: <br>\n",
    "    $B(0,t) = E[e^{- \\int_0^t r_s ds}] = E[e^{-Y_t}]$ "
   ]
  },
  {
   "cell_type": "code",
   "execution_count": 34,
   "id": "13f588e9",
   "metadata": {},
   "outputs": [],
   "source": [
    "## calculates the mean for Yt2 given Yt1 and rt1, where t1 < t2\n",
    "def Y_mean(Y, r, t1, t2):\n",
    "    return Y + (t2-t1)*b+(r-b)*A(t1,t2)\n",
    "\n",
    "## calculates the variance for Yt2\n",
    "def Y_var(t1,t2):\n",
    "    return sigma**2*(t2-t1-A(t1,t2)**2/2)/(alpha**2)\n",
    "\n",
    "## covariance bewteen yt2 and rt2\n",
    "def rY_var(t1, t2):\n",
    "    return sigma**2*2*(A(t1,t2)**2)/2\n",
    "   \n",
    "## correlation from the covariance\n",
    "def rY_rho(t1, t2):\n",
    "    return rY_var(t1,t2)/np.sqrt(vasi_var(t1,t2)*Y_var(t1,t2))"
   ]
  },
  {
   "cell_type": "code",
   "execution_count": 35,
   "id": "edd47fa1",
   "metadata": {},
   "outputs": [],
   "source": [
    "# Initial Y Value\n",
    "Y0 = 0\n",
    "\n",
    "np.random.seed(0)\n",
    "\n",
    "# number of years simulated and number of simulations\n",
    "n_years = 10\n",
    "n_simulations = 100000\n",
    "\n",
    "# array of number of years\n",
    "# creates integers, which is okay since we are simulating on an annual basis\n",
    "t = np.array(range(0,n_years+1))\n",
    "\n",
    "# standard normal matrices for rt and Yt\n",
    "Z_mont1 = norm.rvs(size= [n_simulations, n_years])\n",
    "Z_mont2 = norm.rvs(size= [n_simulations, n_years])\n",
    "r_simtemp = np.zeros([n_simulations, n_years+1])\n",
    "Y_simtemp = np.zeros([n_simulations, n_years+1])\n",
    "\n",
    "# Set the first column (the initial value of each simulation) to r(0) and Y(0)\n",
    "r_simtemp[:,0] = r0\n",
    "Y_simtemp[:,0] = Y0\n",
    "\n",
    "# Creating correlated standard normals\n",
    "correlations = rY_rho(t[0:-1], t[1:]) # 0 to last, from t to all\n",
    "Z_mont2 = correlations*Z_mont1 + np.sqrt(1-correlations**2)*Z_mont2\n",
    "\n",
    "# run simulation\n",
    "for i in range(n_years):\n",
    "    # generate the rt and yt paths\n",
    "    r_simtemp[:, i+1] = vasi_mean(r_simtemp[:,i], t[i], t[i+1]) + np.sqrt(vasi_var(t[i], t[i+1]))*Z_mont1[:,i]\n",
    "    Y_simtemp[:, i+1] = Y_mean(Y_simtemp[:,i], r_simtemp[:,i], t[i], t[i+1]) + np.sqrt(Y_var(t[i], t[i+1]))*Z_mont2[:,i]\n",
    "\n",
    "# Estimate bond prices using Monte Carlo by taking the mean bond prices for each year over all simulations\n",
    "ZCB_prices = np.mean(np.exp(-Y_simtemp), axis=0)"
   ]
  },
  {
   "cell_type": "code",
   "execution_count": 36,
   "id": "a5961e33",
   "metadata": {},
   "outputs": [],
   "source": [
    "mont_yield = -np.log(ZCB_prices[1:])/t[1:]"
   ]
  },
  {
   "cell_type": "code",
   "execution_count": 37,
   "id": "2aab34b2",
   "metadata": {
    "scrolled": true
   },
   "outputs": [
    {
     "data": {
      "text/plain": [
       "[<matplotlib.lines.Line2D at 0x2f2ee8c5880>]"
      ]
     },
     "execution_count": 37,
     "metadata": {},
     "output_type": "execute_result"
    },
    {
     "data": {
      "image/png": "[encoded data removed]",
      "text/plain": [
       "<Figure size 432x288 with 1 Axes>"
      ]
     },
     "metadata": {
      "needs_background": "light"
     },
     "output_type": "display_data"
    }
   ],
   "source": [
    "plt.plot(t[1:], mont_yield*100, \".\", label=\"Joint Simulation\")"
   ]
  },
  {
   "cell_type": "markdown",
   "id": "9c9b26bc",
   "metadata": {},
   "source": [
    "## Quadrature approach"
   ]
  },
  {
   "cell_type": "markdown",
   "id": "e1f48b0b",
   "metadata": {},
   "source": [
    "This approach is computationally better. Here, instead of simulating two variables, we only simulate the $r_t$."
   ]
  },
  {
   "cell_type": "markdown",
   "id": "38131ff7",
   "metadata": {},
   "source": [
    "$ y_t = \\int_0^t r_s ds $ <br>\n",
    "$\\approx \\Sigma_{i=0}^{n-1}r_{t_i}\\delta_i$ <br>\n",
    "$\\approx \\sum_{i=0}^{n=1} \\frac{r_{t_i} + r_{t_{i+1}}}{2}\\delta_i $\n",
    "\n",
    "where, <br>\n",
    "$\\mathcal{O} = t_0 < t_1 < t_2 < ... < t_n = t$<br>\n",
    "$\\delta_i = t_{i+1}-t_i$\n",
    "\n",
    "This falls in the category of a quadrature as the second approximation has a $\\mathcal{O}(\\delta^2)$ error whereas the first approximation has a $\\mathcal{O}(\\delta)$ error.\n",
    "\n",
    "Note: $\\mathcal{O}$ is not zero or the letter O, it is \"Big O\""
   ]
  },
  {
   "cell_type": "code",
   "execution_count": 17,
   "id": "81dd5edd",
   "metadata": {},
   "outputs": [],
   "source": [
    "# Y_t estimates using the approximations\n",
    "r_mat = np.cumsum(r_simtemp[:,0:-1], axis=1)*(t[1:] - t[0:-1])\n",
    "r_mat2 = np.cumsum(r_simtemp[:,0:-1] + r_simtemp[:,1:], axis=1)/2*(t[1:] - t[0:-1])\n",
    "\n",
    "# Bond Pirce Estimates\n",
    "## at time 0, bonds have a price of 1\n",
    "squad_prices = np.ones(n_years+1)\n",
    "trap_prices = np.ones(n_years+1)\n",
    "\n",
    "# find the means replacing Yt with r_mat\n",
    "squad_prices[1:] = np.mean(np.exp(-r_mat), axis=0)\n",
    "trap_prices[1:] = np.mean(np.exp(-r_mat2), axis=0)"
   ]
  },
  {
   "cell_type": "code",
   "execution_count": 25,
   "id": "c530a458",
   "metadata": {},
   "outputs": [
    {
     "data": {
      "text/plain": [
       "[<matplotlib.lines.Line2D at 0x2f2ef185370>]"
      ]
     },
     "execution_count": 25,
     "metadata": {},
     "output_type": "execute_result"
    },
    {
     "data": {
      "image/png": "[encoded data removed]",
      "text/plain": [
       "<Figure size 432x288 with 1 Axes>"
      ]
     },
     "metadata": {
      "needs_background": "light"
     },
     "output_type": "display_data"
    }
   ],
   "source": [
    "# Simulated rt and estimated Yt\n",
    "plt.plot(t, squad_prices, \"x\", label=\"Simple Quadrature\")\n",
    "# Simulated rt and estimated Yt\n",
    "plt.plot(t, trap_prices, \"^\", label=\"Trapezoidal Quadrature\")"
   ]
  },
  {
   "cell_type": "markdown",
   "id": "71185cc0",
   "metadata": {},
   "source": [
    "## Analtyical"
   ]
  },
  {
   "cell_type": "code",
   "execution_count": 29,
   "id": "2fba9d33",
   "metadata": {},
   "outputs": [],
   "source": [
    "## Analytical: Closed-form bond prices\n",
    "bond_vec = bond_price(r0,0,t)"
   ]
  },
  {
   "cell_type": "code",
   "execution_count": 30,
   "id": "a6e4afd3",
   "metadata": {},
   "outputs": [
    {
     "data": {
      "text/plain": [
       "[<matplotlib.lines.Line2D at 0x2f2ee9ad220>]"
      ]
     },
     "execution_count": 30,
     "metadata": {},
     "output_type": "execute_result"
    },
    {
     "data": {
      "image/png": "[encoded data removed]",
      "text/plain": [
       "<Figure size 432x288 with 1 Axes>"
      ]
     },
     "metadata": {
      "needs_background": "light"
     },
     "output_type": "display_data"
    }
   ],
   "source": [
    "plt.plot(t,bond_vec, label=\"Closed-Form\")"
   ]
  },
  {
   "cell_type": "markdown",
   "id": "56543209",
   "metadata": {},
   "source": [
    "## Plotting: all prices and yields"
   ]
  },
  {
   "cell_type": "code",
   "execution_count": 22,
   "id": "c34f684f",
   "metadata": {
    "scrolled": true
   },
   "outputs": [
    {
     "data": {
      "image/png": "[encoded data removed]",
      "text/plain": [
       "<Figure size 1080x360 with 1 Axes>"
      ]
     },
     "metadata": {
      "needs_background": "light"
     },
     "output_type": "display_data"
    }
   ],
   "source": [
    "# plotting bond prices\n",
    "plt.figure(figsize=(15,5))\n",
    "\n",
    "## Analytical Solution\n",
    "plt.plot(t,bond_vec, label=\"Closed-Form\")\n",
    "\n",
    "## Simulated Yt and rt\n",
    "plt.plot(t, ZCB_prices, \".\", label=\"Joint Simulation\")\n",
    "\n",
    "# Simulated rt and estimated Yt\n",
    "plt.plot(t, squad_prices, \"x\", label=\"Simple Quadrature\")\n",
    "# Simulated rt and estimated Yt\n",
    "plt.plot(t, trap_prices, \"^\", label=\"Trapezoidal Quadrature\")\n",
    "\n",
    "plt.title(\"Bond Prices vs. Maturity\")\n",
    "plt.xlabel(\"Time to Maturity\")\n",
    "plt.ylabel(\"Bond Price\")\n",
    "plt.legend()\n",
    "plt.show()"
   ]
  },
  {
   "cell_type": "code",
   "execution_count": 23,
   "id": "630b0931",
   "metadata": {},
   "outputs": [],
   "source": [
    "# Determining yields\n",
    "bond_yield = -np.log(bond_vec[1:])/t[1:]\n",
    "mont_yield = -np.log(ZCB_prices[1:])/t[1:]\n",
    "squad_yield = -np.log(squad_prices[1:])/t[1:]\n",
    "trap_yield = -np.log(trap_prices[1:])/t[1:]"
   ]
  },
  {
   "cell_type": "code",
   "execution_count": 24,
   "id": "bc47d8a1",
   "metadata": {
    "scrolled": true
   },
   "outputs": [
    {
     "data": {
      "image/png": "[encoded data removed]",
      "text/plain": [
       "<Figure size 1080x360 with 1 Axes>"
      ]
     },
     "metadata": {
      "needs_background": "light"
     },
     "output_type": "display_data"
    }
   ],
   "source": [
    "# Plotting the yields\n",
    "plt.figure(figsize=(15,5))\n",
    "plt.plot(t[1:], bond_yield*100, label=\"Closed-Form\")\n",
    "plt.plot(t[1:], mont_yield*100, \".\", label=\"Joint Simulation\")\n",
    "plt.plot(t[1:], squad_yield*100, \"x\", label=\"Simple Quadrature\")\n",
    "plt.plot(t[1:], trap_yield*100, \"^\", label=\"Trapezoidal Quadrature\")\n",
    "plt.title(\"Yield Curve\")\n",
    "plt.xlabel(\"Time to Maturity\")\n",
    "plt.ylabel(\"Bond Yield\")\n",
    "plt.legend()\n",
    "plt.show()"
   ]
  },
  {
   "cell_type": "markdown",
   "id": "295573ad",
   "metadata": {},
   "source": [
    "Note, that even though here we are using the Vasicek model to model the interest rates, this same technique can be very easily applied to more complex models. "
   ]
  },
  {
   "cell_type": "markdown",
   "id": "3f4ff8e2",
   "metadata": {},
   "source": [
    "## Related links\n",
    "* [STIR models Part 1 (Vasicek and other processes)](<https://github.com/raghavduseja/Fixed-Income/blob/28294c2a62200986a648d759b517690203350880/STIRs/STIR%20models%20Part%201%20(Vasicek%20and%20other%20processes).ipynb>)"
   ]
  },
  {
   "cell_type": "markdown",
   "id": "4044f757",
   "metadata": {},
   "source": [
    "## References\n",
    "* Gianluca Fusai, \"Chapter 6: Quadrature Methods\", https://sites.google.com/uniupo.it/implementingmodels/implementing-models-in-quantitative-finance/part-1-methods/chapter-6-quadrature-methods\n",
    "* WQU Notes, Computational Finance"
   ]
  }
 ],
 "metadata": {
  "kernelspec": {
   "display_name": "Python 3 (ipykernel)",
   "language": "python",
   "name": "python3"
  },
  "language_info": {
   "codemirror_mode": {
    "name": "ipython",
    "version": 3
   },
   "file_extension": ".py",
   "mimetype": "text/x-python",
   "name": "python",
   "nbconvert_exporter": "python",
   "pygments_lexer": "ipython3",
   "version": "3.8.12"
  }
 },
 "nbformat": 4,
 "nbformat_minor": 5
}
